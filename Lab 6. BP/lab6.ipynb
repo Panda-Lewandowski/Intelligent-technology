{
 "cells": [
  {
   "cell_type": "code",
   "execution_count": 17,
   "metadata": {},
   "outputs": [],
   "source": [
    "import math\n",
    "import matplotlib.pyplot as plt"
   ]
  },
  {
   "cell_type": "code",
   "execution_count": 26,
   "metadata": {},
   "outputs": [],
   "source": [
    "N = 1\n",
    "J = 2\n",
    "M = 1\n",
    "t = [0.3]\n",
    "x_1_lvl = [1, 2]\n",
    "n = 1"
   ]
  },
  {
   "cell_type": "code",
   "execution_count": 19,
   "metadata": {},
   "outputs": [],
   "source": [
    "def activation_func(net):\n",
    "    res = (1 - math.e ** (-net)) / (1 + math.e ** (-net))\n",
    "    return res"
   ]
  },
  {
   "cell_type": "code",
   "execution_count": 20,
   "metadata": {},
   "outputs": [],
   "source": [
    "def derivative(net):\n",
    "    res = 0.5 * (1 - activation_func(net) ** 2)\n",
    "    return res"
   ]
  },
  {
   "cell_type": "code",
   "execution_count": 21,
   "metadata": {},
   "outputs": [],
   "source": [
    "def err(y_arr):\n",
    "    return math.sqrt(sum([(t_j - y_j) ** 2 for t_j, y_j in zip(t, y_arr)]))"
   ]
  },
  {
   "cell_type": "code",
   "execution_count": 22,
   "metadata": {},
   "outputs": [],
   "source": [
    "def epoch(w_arr_1, w_arr_2):\n",
    "    net_1_lvl = []\n",
    "    x_2_lvl = [1]\n",
    "    for j in range(J):\n",
    "        net = sum([w[j] * x_i for w, x_i in zip(w_arr_1[1:], x_1_lvl)]) + w_arr_1[0][j]\n",
    "        net_1_lvl.append(net)\n",
    "        x_2_lvl.append(activation_func(net))\n",
    "        \n",
    "    net_2_lvl = []\n",
    "    y_arr = []\n",
    "    b_2_lvl = []    \n",
    "    for m in range(M):\n",
    "        net = sum([w[m] * x_j for w, x_j in zip(w_arr_2[1:], x_2_lvl)]) + w_arr_2[0][m]\n",
    "        net_2_lvl.append(net)\n",
    "        y = activation_func(net)\n",
    "        y_arr.append(y)\n",
    "        b = derivative(net) * (t[m] - y)\n",
    "        b_2_lvl.append(b)\n",
    "        \n",
    "    b_1_lvl = []    \n",
    "    for j in range(J):\n",
    "        s = 0\n",
    "        for m in range(M):\n",
    "            s += w_arr_2[j][m] * b_2_lvl[m]\n",
    "        b = derivative(net_1_lvl[j]) * s\n",
    "        b_1_lvl.append(b)\n",
    "\n",
    "    for i in range(N + 1):\n",
    "        for j in range(J):\n",
    "            delta_w = n * x_1_lvl[i] * b_1_lvl[j]\n",
    "            w_arr_1[i][j] = w_arr_1[i][j] + delta_w\n",
    "\n",
    "    for j in range(J + 1):\n",
    "        for m in range(M):\n",
    "            delta_w = n * x_2_lvl[j] * b_2_lvl[m]\n",
    "            w_arr_2[j][m] = w_arr_2[j][m] + delta_w\n",
    "\n",
    "    e = err(y_arr)\n",
    "    return w_arr_1, w_arr_2, y_arr, e"
   ]
  },
  {
   "cell_type": "code",
   "execution_count": 37,
   "metadata": {},
   "outputs": [
    {
     "data": {
      "image/png": "[encoded data removed]",
      "text/plain": [
       "<Figure size 432x288 with 1 Axes>"
      ]
     },
     "metadata": {
      "needs_background": "light"
     },
     "output_type": "display_data"
    }
   ],
   "source": [
    "w_arr_1 = [[0 for x in range(J)] for y in range(N + 1)]\n",
    "w_arr_2 = [[0 for x in range(M)] for y in range(J + 1)]\n",
    "err_array = []\n",
    "i = 0\n",
    "e = 1 \n",
    "while e > 0.001:\n",
    "#     print(\"=====================================================================\")\n",
    "    w_arr_1, w_arr_2, y_arr, e = epoch(w_arr_1, w_arr_2)\n",
    "#     print(\"W1: \", [[round(j, 7) for j in i] for i in w_arr_1])\n",
    "#     print(\"W2: \", w_arr_2)\n",
    "#     print(\"Y: \", y_arr)\n",
    "#     print(\"Error:\", \"%.7f\" % e)\n",
    "#     print(\"Epoch:\", i)\n",
    "    err_array.append(round(e, 5))\n",
    "    i += 1\n",
    "plt.plot([float(\"%.5f\" % x) for x in err_array])\n",
    "plt.xlabel(\"Суммарная среднеквадратичная ошибка\")\n",
    "plt.show()"
   ]
  },
  {
   "cell_type": "code",
   "execution_count": null,
   "metadata": {},
   "outputs": [],
   "source": []
  }
 ],
 "metadata": {
  "kernelspec": {
   "display_name": "Python 3.7.7 64-bit ('edu': virtualenv)",
   "language": "python",
   "name": "python37764biteduvirtualenv92fdd5beaa554345abf5fbca6b29acc1"
  },
  "language_info": {
   "codemirror_mode": {
    "name": "ipython",
    "version": 3
   },
   "file_extension": ".py",
   "mimetype": "text/x-python",
   "name": "python",
   "nbconvert_exporter": "python",
   "pygments_lexer": "ipython3",
   "version": "3.7.7"
  }
 },
 "nbformat": 4,
 "nbformat_minor": 4
}
