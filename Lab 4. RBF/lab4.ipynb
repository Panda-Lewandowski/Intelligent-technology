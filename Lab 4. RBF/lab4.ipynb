{
 "cells": [
  {
   "cell_type": "code",
   "execution_count": 18,
   "metadata": {},
   "outputs": [],
   "source": [
    "import math\n",
    "import matplotlib.pyplot as plt"
   ]
  },
  {
   "cell_type": "code",
   "execution_count": 19,
   "metadata": {},
   "outputs": [],
   "source": [
    "def f(x_arr):\n",
    "    return not ((x_arr[0] and x_arr[1]) or x_arr[2] or x_arr[3])"
   ]
  },
  {
   "cell_type": "code",
   "execution_count": 20,
   "metadata": {},
   "outputs": [],
   "source": [
    "def allvariations(arr, count):\n",
    "    result = []\n",
    "    if count == 1:\n",
    "        result = [[x] for x in arr]\n",
    "    else:\n",
    "        for x in range(len(arr)):\n",
    "            tmp_arr = arr[x + 1:]\n",
    "            for i in allvariations(tmp_arr, count - 1):\n",
    "                result.append([arr[x]] + i)\n",
    "    return result"
   ]
  },
  {
   "cell_type": "code",
   "execution_count": 21,
   "metadata": {},
   "outputs": [],
   "source": [
    "def generate_input_array(bit_amount):\n",
    "    i = 2 ** bit_amount\n",
    "    arr = []\n",
    "    for x in range(i):\n",
    "        arr.append([int(x) for x in bin(x)[2:].zfill(bit_amount)])\n",
    "    return arr"
   ]
  },
  {
   "cell_type": "code",
   "execution_count": 22,
   "metadata": {},
   "outputs": [],
   "source": [
    "def func(net):\n",
    "    return net >= 0"
   ]
  },
  {
   "cell_type": "code",
   "execution_count": 23,
   "metadata": {},
   "outputs": [],
   "source": [
    "def RBF(x_arr, J_arr, u_arr, n):\n",
    "    fi_arr = []\n",
    "\n",
    "    y_arr = []\n",
    "    b_arr = []\n",
    "    for x_vect in x_arr:\n",
    "        b_sum = 0\n",
    "        fi_arr = []\n",
    "        for j in range(len(J_arr)):\n",
    "            fi = math.e ** (-sum([(x - c) ** 2 for x, c in zip(x_vect, J_arr[j])]))\n",
    "            fi_arr.append(fi)\n",
    "        net = sum(u * fi for u, fi in zip(u_arr[1:], fi_arr)) + u_arr[0]\n",
    "        y_net = func(net)\n",
    "        y_arr.append(y_net)\n",
    "        y_real = f(x_vect)\n",
    "        b = y_real - y_net\n",
    "        b_sum += abs(b)\n",
    "        delta_u_arr = []\n",
    "        fi_arr = [1] + fi_arr\n",
    "        for j in range(len(u_arr)):\n",
    "            delta_u = n * b * fi_arr[j]\n",
    "            delta_u_arr.append(delta_u)\n",
    "            u_arr[j] += delta_u\n",
    "        b_arr.append(b_sum)\n",
    "    return u_arr, sum(b_arr), y_arr"
   ]
  },
  {
   "cell_type": "code",
   "execution_count": 24,
   "metadata": {},
   "outputs": [
    {
     "name": "stdout",
     "output_type": "stream",
     "text": [
      "J_arr: [[0, 0, 0, 0], [0, 1, 0, 0], [1, 0, 0, 0]]\n"
     ]
    }
   ],
   "source": [
    "n = 0.3\n",
    "J_1 = 0\n",
    "J_0 = 0\n",
    "J_0_arr = []\n",
    "J_1_arr = []\n",
    "# подсчет количества значений\n",
    "x_arr = []\n",
    "for x in range(2 ** 4):\n",
    "    x1 = x // (2 ** 3)\n",
    "    x = x - x1 * (2 ** 3)\n",
    "    x2 = x // (2 ** 2)\n",
    "    x = x - x2 * (2 ** 2)\n",
    "    x3 = x // 2\n",
    "    x4 = x - x3 * 2\n",
    "    x_arr.append([x1, x2, x3, x4])\n",
    "    # print(\"Result:\",[x1,x2,x3,x4],f([x1,x2,x3,x4]))\n",
    "    if f([x1, x2, x3, x4]) == 1:\n",
    "        J_1 += 1\n",
    "        J_1_arr.append([x1, x2, x3, x4])\n",
    "    else:\n",
    "        J_0 += 1\n",
    "        J_0_arr.append([x1, x2, x3, x4])\n",
    "    if min(J_0, J_1) == J_0:\n",
    "        J_arr = J_0_arr\n",
    "        current_res = 0\n",
    "    else:\n",
    "        J_arr = J_1_arr\n",
    "        current_res = 1\n",
    "print('J_arr:',J_arr)"
   ]
  },
  {
   "cell_type": "code",
   "execution_count": 25,
   "metadata": {},
   "outputs": [],
   "source": [
    "u_arr = [0] + [0 for x in range(len(J_arr))]"
   ]
  },
  {
   "cell_type": "code",
   "execution_count": 26,
   "metadata": {},
   "outputs": [],
   "source": [
    "b_sum = []"
   ]
  },
  {
   "cell_type": "code",
   "execution_count": 27,
   "metadata": {},
   "outputs": [
    {
     "name": "stdout",
     "output_type": "stream",
     "text": [
      "####################################################################\n",
      "Epoxa num: 1\n",
      "W before: [0, 0, 0, 0]\n",
      "W after: [-0.3, 0.029, 0.175, 0.175]\n",
      "Error: 5\n",
      "Y: [1, 1, 0, 0, 0, 1, 0, 0, 0, 1, 0, 0, 0, 0, 0, 0]\n",
      "####################################################################\n",
      "Epoxa num: 2\n",
      "W before: [-0.3, 0.029, 0.175, 0.175]\n",
      "W after: [-0.3, 0.219, 0.244, 0.244]\n",
      "Error: 2\n",
      "Y: [0, 1, 0, 0, 1, 0, 0, 0, 1, 0, 0, 0, 0, 0, 0, 0]\n",
      "####################################################################\n",
      "Epoxa num: 3\n",
      "W before: [-0.3, 0.219, 0.244, 0.244]\n",
      "W after: [-0.3, 0.219, 0.244, 0.244]\n",
      "Error: 0\n",
      "Y: [1, 0, 0, 0, 1, 0, 0, 0, 1, 0, 0, 0, 0, 0, 0, 0]\n"
     ]
    },
    {
     "data": {
      "image/png": "[encoded data removed]",
      "text/plain": [
       "<Figure size 432x288 with 1 Axes>"
      ]
     },
     "metadata": {
      "needs_background": "light"
     },
     "output_type": "display_data"
    }
   ],
   "source": [
    "b = -1\n",
    "epoch_num = 0\n",
    "while b != 0:\n",
    "    epoch_num += 1\n",
    "    print(\"####################################################################\")\n",
    "    print(\"Epoxa num:\", epoch_num)\n",
    "    print(\"W before:\", [round(u, 3) for u in u_arr])\n",
    "    u_arr, b, y_arr = RBF(x_arr, J_arr, u_arr, n)\n",
    "    print(\"W after:\", [round(u, 3) for u in u_arr])\n",
    "    print(\"Error:\", b)\n",
    "    print(\"Y:\", [int(y) for y in y_arr])\n",
    "    b_sum.append(b)\n",
    "    # print(u_arr,b)\n",
    "plt.plot(b_sum)\n",
    "plt.xlabel(\"Ошибки при n=0.3\")\n",
    "plt.show()"
   ]
  },
  {
   "cell_type": "code",
   "execution_count": 29,
   "metadata": {},
   "outputs": [
    {
     "name": "stdout",
     "output_type": "stream",
     "text": [
      "65535\n"
     ]
    }
   ],
   "source": [
    "tests = generate_input_array(4)\n",
    "all_tests = []\n",
    "for x in range(1, 17):\n",
    "    all_tests += allvariations(tests, x)\n",
    "print(len(all_tests))"
   ]
  },
  {
   "cell_type": "code",
   "execution_count": 30,
   "metadata": {},
   "outputs": [],
   "source": [
    "m = []\n",
    "len_min = 10000\n",
    "n = 0.3"
   ]
  },
  {
   "cell_type": "code",
   "execution_count": 31,
   "metadata": {},
   "outputs": [
    {
     "name": "stdout",
     "output_type": "stream",
     "text": [
      "Minimum:[[0, 0, 0, 0], [0, 0, 0, 1]]  Epoch:9\n"
     ]
    }
   ],
   "source": [
    "for test in all_tests:\n",
    "#     print(all_tests.index(test))\n",
    "    b = 10000000000000\n",
    "    epoch_num = 0\n",
    "    u_arr = [1] + [0 for x in range(len(J_arr))]\n",
    "    while b != 0 and epoch_num < 100:\n",
    "        epoch_num += 1\n",
    "        u_arr, b, y_arr = RBF(test, J_arr, u_arr, n)\n",
    "    if b == 0:\n",
    "        u_arr, b, y_arr = RBF(x_arr, J_arr, u_arr, n)\n",
    "        if b == 0 and len(test) < len_min:\n",
    "            m = test\n",
    "            len_min = len(m)\n",
    "            epoch = epoch_num\n",
    "print(f\"Minimum:{m}  Epoch:{epoch}\")"
   ]
  },
  {
   "cell_type": "code",
   "execution_count": 32,
   "metadata": {},
   "outputs": [
    {
     "name": "stdout",
     "output_type": "stream",
     "text": [
      "Error: 1\n",
      "Epoch num: 1\n",
      "W:  [0.7, -0.11, -0.04, -0.04]\n",
      "Y: [True, True]\n",
      "Error: 1\n",
      "Epoch num: 2\n",
      "W:  [0.4, -0.22, -0.08, -0.08]\n",
      "Y: [True, True]\n",
      "Error: 1\n",
      "Epoch num: 3\n",
      "W:  [0.1, -0.33, -0.12, -0.12]\n",
      "Y: [True, True]\n",
      "Error: 2\n",
      "Epoch num: 4\n",
      "W:  [0.1, -0.14, -0.05, -0.05]\n",
      "Y: [False, True]\n",
      "Error: 2\n",
      "Epoch num: 5\n",
      "W:  [0.1, 0.05, 0.02, 0.02]\n",
      "Y: [False, True]\n",
      "Error: 1\n",
      "Epoch num: 6\n",
      "W:  [-0.2, -0.06, -0.02, -0.02]\n",
      "Y: [True, True]\n",
      "Error: 2\n",
      "Epoch num: 7\n",
      "W:  [-0.2, 0.13, 0.05, 0.05]\n",
      "Y: [False, True]\n",
      "Error: 2\n",
      "Epoch num: 8\n",
      "W:  [-0.2, 0.32, 0.12, 0.12]\n",
      "Y: [False, True]\n",
      "Error: 0\n",
      "Epoch num: 9\n",
      "W:  [-0.2, 0.32, 0.12, 0.12]\n",
      "Y: [True, False]\n"
     ]
    },
    {
     "data": {
      "image/png": "[encoded data removed]",
      "text/plain": [
       "<Figure size 432x288 with 1 Axes>"
      ]
     },
     "metadata": {
      "needs_background": "light"
     },
     "output_type": "display_data"
    }
   ],
   "source": [
    "b = -1\n",
    "epoch_num = 0\n",
    "u_arr = [1] + [0 for x in range(len(J_arr))]\n",
    "b_sum = []\n",
    "while b != 0 and epoch_num < 1000:\n",
    "    epoch_num += 1\n",
    "    u_arr, b, y_arr = RBF(m, J_arr, u_arr, n)\n",
    "    print('Error:', b)\n",
    "    print('Epoch num:', epoch_num)\n",
    "    print('W: ', [round(x, 2) for x in u_arr])\n",
    "    print('Y:', y_arr)\n",
    "    b_sum.append(b)\n",
    "    # Minimum: [[0, 0, 0, 0], [0, 1, 0, 1], [0, 1, 1, 1], [1, 1, 0, 1]]\n",
    "plt.plot(b_sum)\n",
    "plt.xlabel('Epoch')\n",
    "plt.ylabel('Error')\n",
    "plt.show()"
   ]
  }
 ],
 "metadata": {
  "kernelspec": {
   "display_name": "Python 3.7.7 64-bit ('edu': virtualenv)",
   "language": "python",
   "name": "python37764biteduvirtualenv92fdd5beaa554345abf5fbca6b29acc1"
  },
  "language_info": {
   "codemirror_mode": {
    "name": "ipython",
    "version": 3
   },
   "file_extension": ".py",
   "mimetype": "text/x-python",
   "name": "python",
   "nbconvert_exporter": "python",
   "pygments_lexer": "ipython3",
   "version": "3.7.7"
  }
 },
 "nbformat": 4,
 "nbformat_minor": 4
}
