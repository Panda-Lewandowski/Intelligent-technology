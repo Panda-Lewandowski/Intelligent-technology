{
 "cells": [
  {
   "cell_type": "code",
   "execution_count": 1,
   "metadata": {},
   "outputs": [],
   "source": [
    "import random\n",
    "import asyncio\n",
    "import copy\n",
    "import numpy as np\n",
    "from itertools import combinations, product, permutations\n",
    "from math import exp\n",
    "from matplotlib import pyplot as plt"
   ]
  },
  {
   "cell_type": "code",
   "execution_count": 2,
   "metadata": {},
   "outputs": [],
   "source": [
    "def bool_function(x1, x2, x3, x4: bool) -> int:\n",
    "    return int(not ((x1 and x2) or x3 or x4))"
   ]
  },
  {
   "cell_type": "code",
   "execution_count": 3,
   "metadata": {},
   "outputs": [],
   "source": [
    "def threshold_function(net):\n",
    "    return 1 if net >= 0. else 0"
   ]
  },
  {
   "cell_type": "code",
   "execution_count": 4,
   "metadata": {},
   "outputs": [],
   "source": [
    "def logistic_function(net):\n",
    "    return 1. / (1. + exp(-net))"
   ]
  },
  {
   "cell_type": "code",
   "execution_count": 5,
   "metadata": {},
   "outputs": [],
   "source": [
    "def derivative_logistic_function(net):\n",
    "    return logistic_function(net) * (1 - logistic_function(net))"
   ]
  },
  {
   "cell_type": "code",
   "execution_count": 6,
   "metadata": {},
   "outputs": [],
   "source": [
    "def hamming(y_true, y_pred):\n",
    "    return sum([abs(yt - yp) for yt, yp in zip(y_true, y_pred)])"
   ]
  },
  {
   "cell_type": "code",
   "execution_count": 7,
   "metadata": {},
   "outputs": [],
   "source": [
    "class Perceptron: \n",
    "    def __init__(self, activation, derivative, alpha=0.3):\n",
    "        self.w = [0. for _ in range(5)]\n",
    "        self.activation = activation\n",
    "        self.derivative = derivative\n",
    "        self.alpha = alpha\n",
    "        \n",
    "    def fit(self, X, y):\n",
    "        for x, gt in zip(X, y):\n",
    "            net = sum([x[i]*self.w[i] for i in range(len(x))])\n",
    "            sigma = gt - int(round(self.activation(net)))\n",
    "\n",
    "            if sigma != 0:\n",
    "                for i in range(len(x)):\n",
    "                    self.w[i] += self.alpha*sigma*self.derivative(net)*x[i]\n",
    "\n",
    "    def predict(self, X):\n",
    "        y_pred = [0]*len(X)\n",
    "        for n, x in enumerate(X): \n",
    "            net = sum([x[i]*self.w[i] for i in range(len(x))])\n",
    "            y_pred[n] = int(round(self.activation(net)))\n",
    "            \n",
    "        return y_pred"
   ]
  },
  {
   "cell_type": "code",
   "execution_count": 8,
   "metadata": {},
   "outputs": [
    {
     "name": "stdout",
     "output_type": "stream",
     "text": [
      "======== EPOCH [1] ========\n",
      "Weights: [0.0, 0.0, 0.0, 0.0, 0.0]\n",
      "Out: [0, 0, 0, 0, 0, 0, 0, 0, 0, 0, 0, 0, 0, 0, 0, 0]\n",
      "Error: 3\n",
      "======== EPOCH [2] ========\n",
      "Weights: [-0.3, 0.0, 0.0, -0.3, -0.6]\n",
      "Out: [0, 0, 0, 0, 0, 0, 0, 0, 0, 0, 0, 0, 0, 0, 0, 0]\n",
      "Error: 3\n",
      "======== EPOCH [3] ========\n",
      "Weights: [-0.3, -0.3, -0.3, -0.3, -0.6]\n",
      "Out: [1, 0, 0, 0, 0, 0, 0, 0, 0, 0, 0, 0, 0, 0, 0, 0]\n",
      "Error: 2\n",
      "======== EPOCH [4] ========\n",
      "Weights: [0.0, -0.3, -0.6, -0.6, -0.6]\n",
      "Out: [1, 0, 0, 0, 1, 0, 0, 0, 1, 0, 0, 0, 0, 0, 0, 0]\n",
      "Error: 0\n"
     ]
    },
    {
     "data": {
      "image/png": "[encoded data removed]",
      "text/plain": [
       "<Figure size 432x288 with 1 Axes>"
      ]
     },
     "metadata": {
      "needs_background": "light"
     },
     "output_type": "display_data"
    }
   ],
   "source": [
    "nn = Perceptron(threshold_function, lambda _: 1)\n",
    "epoch = 0\n",
    "errors = []\n",
    "notComplete = True\n",
    "\n",
    "X = [[1] + list(item) for item in product([0, 1], repeat=4)]\n",
    "y = [bool_function(*vec[1:]) for vec in X]\n",
    "\n",
    "while notComplete and epoch < 100:\n",
    "    epoch += 1\n",
    "    notComplete = False\n",
    "    inds = range(len(X))\n",
    "    print(f'======== EPOCH [{epoch}] ========')\n",
    "    print(f'Weights: {[round(w, 3) for w in nn.w]}')\n",
    "    nn.fit([X[i] for i in inds], [y[i] for i in inds])\n",
    "    pred_y = nn.predict(X)\n",
    "    error = hamming(y, pred_y)\n",
    "    print(f'Out: {pred_y}')\n",
    "    notComplete = (error != 0)\n",
    "    errors.append(error)\n",
    "    print(f'Error: {error}')\n",
    "    \n",
    "plt.xlabel(\"Epoch\")\n",
    "plt.ylabel(\"Error\")\n",
    "plt.title(threshold_function.__name__)\n",
    "plt.grid(True)\n",
    "plt.plot(range(epoch), errors, color='red', lw=3)\n",
    "plt.show()"
   ]
  },
  {
   "cell_type": "code",
   "execution_count": 24,
   "metadata": {},
   "outputs": [
    {
     "name": "stdout",
     "output_type": "stream",
     "text": [
      "======== EPOCH [1] ========\n",
      "Weights: [0.0, 0.0, 0.0, 0.0, 0.0]\n",
      "Out: [0, 0, 0, 0]\n",
      "Error: 2\n",
      "======== EPOCH [2] ========\n",
      "Weights: [-0.3, -0.3, -0.3, -0.3, -0.3]\n",
      "Out: [0, 0, 0, 0]\n",
      "Error: 2\n",
      "======== EPOCH [3] ========\n",
      "Weights: [0.0, -0.3, -0.3, -0.3, -0.3]\n",
      "Out: [0, 1, 1, 0]\n",
      "Error: 0\n"
     ]
    },
    {
     "data": {
      "image/png": "[encoded data removed]",
      "text/plain": [
       "<Figure size 432x288 with 1 Axes>"
      ]
     },
     "metadata": {
      "needs_background": "light"
     },
     "output_type": "display_data"
    }
   ],
   "source": [
    "nn = Perceptron(threshold_function, lambda _: 1)\n",
    "epoch = 0\n",
    "errors = []\n",
    "notComplete = True\n",
    "\n",
    "X_best = [[1, 1, 0, 0], [0, 1, 0, 0], [1, 0, 0, 0], [0, 1, 1, 1]]\n",
    "X_best = [[1] + list(item) for item in X_best]\n",
    "y_best = [bool_function(*vec[1:]) for vec in X_best]\n",
    "\n",
    "while notComplete and epoch < 100:\n",
    "    epoch += 1\n",
    "    notComplete = False\n",
    "    print(f'======== EPOCH [{epoch}] ========')\n",
    "    print(f'Weights: {[round(w, 3) for w in nn.w]}')\n",
    "    inds = random.sample(range(len(X_best)), k=len(X_best))\n",
    "    nn.fit([X_best[i] for i in inds], [y_best[i] for i in inds])\n",
    "    pred_y = nn.predict(X_best)\n",
    "    print(f'Out: {pred_y}')\n",
    "    error = hamming(y_best, pred_y)\n",
    "    notComplete = (error != 0)\n",
    "    errors.append(error)\n",
    "    \n",
    "    print(f'Error: {error}')\n",
    "    \n",
    "plt.xlabel(\"Epoch\")\n",
    "plt.ylabel(\"Error\")\n",
    "plt.title(threshold_function.__name__)\n",
    "plt.grid(True)\n",
    "plt.plot(range(epoch), errors, color='red', lw=3)\n",
    "plt.show()"
   ]
  },
  {
   "cell_type": "code",
   "execution_count": 25,
   "metadata": {},
   "outputs": [
    {
     "name": "stdout",
     "output_type": "stream",
     "text": [
      "======== EPOCH [1] ========\n",
      "Weights: [0.0, 0.0, 0.0, 0.0, 0.0]\n",
      "Out: [0, 0, 0, 0, 0, 0, 0, 0, 0, 0, 0, 0, 0, 0, 0, 0]\n",
      "Error: 3\n",
      "======== EPOCH [2] ========\n",
      "Weights: [-0.075, -0.0, -0.075, -0.075, -0.15]\n",
      "Out: [0, 0, 0, 0, 0, 0, 0, 0, 0, 0, 0, 0, 0, 0, 0, 0]\n",
      "Error: 3\n",
      "======== EPOCH [3] ========\n",
      "Weights: [-0.0, -0.075, -0.075, -0.075, -0.15]\n",
      "Out: [1, 0, 0, 0, 1, 0, 0, 0, 1, 0, 0, 0, 0, 0, 0, 0]\n",
      "Error: 0\n"
     ]
    },
    {
     "data": {
      "image/png": "[encoded data removed]",
      "text/plain": [
       "<Figure size 432x288 with 1 Axes>"
      ]
     },
     "metadata": {
      "needs_background": "light"
     },
     "output_type": "display_data"
    }
   ],
   "source": [
    "nn = Perceptron(logistic_function, derivative_logistic_function)\n",
    "epoch = 0\n",
    "errors = []\n",
    "notComplete = True\n",
    "\n",
    "X = [[1] + list(item) for item in product([0, 1], repeat=4)]\n",
    "y = [bool_function(*vec[1:]) for vec in X]\n",
    "\n",
    "while notComplete and epoch < 100:\n",
    "    epoch += 1\n",
    "    notComplete = False\n",
    "    print(f'======== EPOCH [{epoch}] ========')\n",
    "    print(f'Weights: {[round(w, 3) for w in nn.w]}')\n",
    "    inds = range(len(X))\n",
    "    nn.fit([X[i] for i in inds], [y[i] for i in inds])\n",
    "    pred_y = nn.predict(X)\n",
    "    print(f'Out: {pred_y}')\n",
    "    error = hamming(y, pred_y)\n",
    "    notComplete = (error != 0)\n",
    "    errors.append(error)\n",
    "    print(f'Error: {error}')\n",
    "    \n",
    "plt.xlabel(\"Epoch\")\n",
    "plt.ylabel(\"Error\")\n",
    "plt.title(threshold_function.__name__)\n",
    "plt.grid(True)\n",
    "plt.plot(range(epoch), errors, color='red', lw=3)\n",
    "plt.show()"
   ]
  },
  {
   "cell_type": "code",
   "execution_count": 68,
   "metadata": {},
   "outputs": [
    {
     "name": "stdout",
     "output_type": "stream",
     "text": [
      "======== EPOCH [1] ========\n",
      "Weights: [0.0, 0.0, 0.0, 0.0, 0.0]\n",
      "Out: [0, 0, 0, 0, 0]\n",
      "Error: 2\n",
      "======== EPOCH [2] ========\n",
      "Weights: [0.0, -0.075, -0.074, -0.075, -0.075]\n",
      "Out: [0, 0, 1, 1, 0]\n",
      "Error: 0\n"
     ]
    },
    {
     "data": {
      "image/png": "[encoded data removed]",
      "text/plain": [
       "<Figure size 432x288 with 1 Axes>"
      ]
     },
     "metadata": {
      "needs_background": "light"
     },
     "output_type": "display_data"
    }
   ],
   "source": [
    "nn = Perceptron(logistic_function, derivative_logistic_function)\n",
    "epoch = 0\n",
    "errors = []\n",
    "notComplete = True\n",
    "\n",
    "X_best = [[1, 1, 1, 1], [1, 1, 0, 0], [1, 0, 0, 0], [0, 1, 0, 0], [1, 0, 1, 1]]\n",
    "X_best = [[1] + list(item) for item in X_best]\n",
    "y_best = [bool_function(*vec[1:]) for vec in X_best]\n",
    "\n",
    "while notComplete and epoch < 100:\n",
    "    epoch += 1\n",
    "    notComplete = False\n",
    "    print(f'======== EPOCH [{epoch}] ========')\n",
    "    print(f'Weights: {[round(w, 3) for w in nn.w]}')\n",
    "    inds = random.sample(range(len(X_best)), k=len(X_best))\n",
    "    nn.fit([X_best[i] for i in inds], [y_best[i] for i in inds])\n",
    "    pred_y = nn.predict(X_best)\n",
    "    print(f'Out: {pred_y}')\n",
    "    error = hamming(y_best, pred_y)\n",
    "    notComplete = (error != 0)\n",
    "    errors.append(error)\n",
    "    print(f'Error: {error}')\n",
    "    \n",
    "plt.xlabel(\"Epoch\")\n",
    "plt.ylabel(\"Error\")\n",
    "plt.title(threshold_function.__name__)\n",
    "plt.grid(True)\n",
    "plt.plot(range(epoch), errors, color='red', lw=3)\n",
    "plt.show()"
   ]
  },
  {
   "cell_type": "code",
   "execution_count": null,
   "metadata": {},
   "outputs": [],
   "source": []
  }
 ],
 "metadata": {
  "kernelspec": {
   "display_name": "Python 3",
   "language": "python",
   "name": "python3"
  },
  "language_info": {
   "codemirror_mode": {
    "name": "ipython",
    "version": 3
   },
   "file_extension": ".py",
   "mimetype": "text/x-python",
   "name": "python",
   "nbconvert_exporter": "python",
   "pygments_lexer": "ipython3",
   "version": "3.7.7"
  }
 },
 "nbformat": 4,
 "nbformat_minor": 4
}
