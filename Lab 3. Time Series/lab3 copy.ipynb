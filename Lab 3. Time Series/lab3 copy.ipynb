{
 "cells": [
  {
   "cell_type": "code",
   "execution_count": 2,
   "metadata": {},
   "outputs": [],
   "source": [
    "import math\n",
    "import matplotlib.pyplot as plt"
   ]
  },
  {
   "cell_type": "code",
   "execution_count": 26,
   "metadata": {},
   "outputs": [],
   "source": [
    "N = 20\n",
    "a = -1\n",
    "b = 0.5\n",
    "w_0 = 0"
   ]
  },
  {
   "cell_type": "code",
   "execution_count": 27,
   "metadata": {},
   "outputs": [],
   "source": [
    "def func(t): # vv\n",
    "    return math.cos(t)**2 - 0.05"
   ]
  },
  {
   "cell_type": "code",
   "execution_count": 5,
   "metadata": {},
   "outputs": [],
   "source": [
    "def error(b_i): # vv\n",
    "    ar1 = [math.pow(abs(b), 2) for b in b_i]\n",
    "    s = sum(ar1)\n",
    "    e = math.sqrt(s)\n",
    "    return e"
   ]
  },
  {
   "cell_type": "code",
   "execution_count": 7,
   "metadata": {},
   "outputs": [],
   "source": [
    "def okno(w_arr, points_arr, t_n, n):\n",
    "    _x_n = sum([w * func(t) for w, t in zip(w_arr[1:], points_arr)]) + w_arr[0]\n",
    "    x_n = func(t_n)\n",
    "    # локальная ошибка прогноза\n",
    "    b_n = x_n - _x_n\n",
    "    w_arr = [w_arr[0]] + [w + (n * b_n * func(t)) for w, t in zip(w_arr[1:], points_arr)]\n",
    "    return w_arr, b_n, _x_n"
   ]
  },
  {
   "cell_type": "code",
   "execution_count": 31,
   "metadata": {},
   "outputs": [],
   "source": [
    "def obychenie(M, n, p):\n",
    "    w_arr = [0 for x in range(p + 1)]\n",
    "    # математическое ожидание\n",
    "    w_arr[0] = 0.05\n",
    "    # вычислим шаг\n",
    "    shag = (b - a) * 1.0 / (N - 1)\n",
    "    start_i = 0\n",
    "    start_x = a\n",
    "    errors_array = []\n",
    "    epoxa_num = 1\n",
    "    err_result = []\n",
    "    e = 0\n",
    "    while epoxa_num < M:\n",
    "        end_x = start_x + (p - 1) * shag\n",
    "        end_i = start_i + p - 1\n",
    "        if end_x > b:\n",
    "            start_i = 0\n",
    "            start_x = a\n",
    "            e = error(errors_array)\n",
    "            err_result.append(e)\n",
    "            # print(epoxa_num, e,errors_array)\n",
    "            errors_array = []\n",
    "            end_x = start_x + (p - 1) * shag\n",
    "            end_i = start_i + p - 1\n",
    "            epoxa_num += 1\n",
    "        points_arr = [a + (t * shag) for t in range(start_i, end_i + 1)]\n",
    "        w_arr, err, _x_n = okno(w_arr, points_arr, end_x + shag, n)\n",
    "        errors_array.append(err)\n",
    "        start_i += 1\n",
    "        start_x += shag\n",
    "#         print('W:',w_arr)\n",
    "        # print('E:', e)    # plt.plot(err_result)\n",
    "    return w_arr, err_result[-1]"
   ]
  },
  {
   "cell_type": "code",
   "execution_count": 9,
   "metadata": {},
   "outputs": [],
   "source": [
    "def predpologenie(w_arr, p):\n",
    "    shag = (b - a) * 1.0 / (N - 1)\n",
    "    a1 = b - ((p - 1) * shag)\n",
    "    start_i = 0\n",
    "    x_arr = []\n",
    "    right_x_arr = [func(b + x * shag) for x in range(1, N)]\n",
    "    points_arr = [b - x * shag for x in range(p)][::-1] + [b + shag * x for x in range(1, N)]\n",
    "    x_res = [func(t) for t in points_arr[:p]]\n",
    "    b_arr = []\n",
    "    for i in range(p, N + p):\n",
    "        _x_n = sum([w * x for w, x in zip(w_arr[1:], x_res[i - p:i])]) + w_arr[0]\n",
    "        x_n = func(b + shag * (i - p + 1))\n",
    "        b_i = x_n - _x_n\n",
    "        b_arr.append(b_i)\n",
    "        # print(_x_n)        \n",
    "        x_res.append(_x_n)\n",
    "        return x_res[p - 1:], right_x_arr, b_arr"
   ]
  },
  {
   "cell_type": "code",
   "execution_count": 46,
   "metadata": {},
   "outputs": [
    {
     "name": "stdout",
     "output_type": "stream",
     "text": [
      "Right: 19\n",
      "Wrong: 2 [0.7201511529340698, 0.6477333010057792]\n"
     ]
    },
    {
     "data": {
      "image/png": "[encoded data removed]",
      "text/plain": [
       "<Figure size 432x288 with 1 Axes>"
      ]
     },
     "metadata": {
      "needs_background": "light"
     },
     "output_type": "display_data"
    }
   ],
   "source": [
    "M = 2000\n",
    "n = 0.6\n",
    "p = 5\n",
    "\n",
    "w_arr, e = obychenie(M, n, p)\n",
    "\n",
    "# -----\n",
    "new_x_arr, right_x_arr, b_arr = predpologenie(w_arr, p)\n",
    "shag = (b - a) * 1.0 / (N - 1)\n",
    "old_x_arr = [func(a + x * shag) for x in range(N)]\n",
    "plt.plot(old_x_arr + right_x_arr)\n",
    "print('Right:', len(right_x_arr))\n",
    "print('Wrong:', len(new_x_arr), new_x_arr)\n",
    "plt.plot([x + len(old_x_arr) for x in range(len(new_x_arr))], new_x_arr, 'ro')\n",
    "plt.title('Предсказывание при M=4000')\n",
    "plt.show()"
   ]
  },
  {
   "cell_type": "code",
   "execution_count": null,
   "metadata": {},
   "outputs": [],
   "source": []
  }
 ],
 "metadata": {
  "kernelspec": {
   "display_name": "Python 3.7.7 64-bit ('edu': virtualenv)",
   "language": "python",
   "name": "python37764biteduvirtualenv92fdd5beaa554345abf5fbca6b29acc1"
  },
  "language_info": {
   "codemirror_mode": {
    "name": "ipython",
    "version": 3
   },
   "file_extension": ".py",
   "mimetype": "text/x-python",
   "name": "python",
   "nbconvert_exporter": "python",
   "pygments_lexer": "ipython3",
   "version": "3.7.7"
  }
 },
 "nbformat": 4,
 "nbformat_minor": 4
}
